{
 "cells": [
  {
   "cell_type": "markdown",
   "metadata": {},
   "source": [
    "# Jupyter Notebook\n",
    "\n",
    "Jupyter Notebooks is a good place to start new python experiences...\n",
    "\n",
    "This page is self-editable, feel free to play...\n",
    "\n",
    "* CTRL-Enter => Run a cells.\n",
    "* CTRL-S => Save your notebooks.\n",
    "* H => More shortcuts...\n",
    "\n",
    "What is it good for?\n",
    "\n",
    "* Interactive documentation.\n",
    "* Send-boxes.\n",
    "* Write documented tests."
   ]
  },
  {
   "cell_type": "markdown",
   "metadata": {},
   "source": [
    "## Let's start with a small task\n",
    "\n",
    "\n",
    "### Run some basic Python"
   ]
  },
  {
   "cell_type": "code",
   "execution_count": null,
   "metadata": {},
   "outputs": [],
   "source": [
    "import datetime\n",
    "\n",
    "print(\"Today is: {}\".format(datetime.date.today()))"
   ]
  },
  {
   "cell_type": "markdown",
   "metadata": {},
   "source": [
    "### Run some basic Bash"
   ]
  },
  {
   "cell_type": "code",
   "execution_count": null,
   "metadata": {},
   "outputs": [],
   "source": [
    "!echo \"Python version: \" && python --version\n",
    "!echo\n",
    "!echo \"Python packages: \" && pip freeze\n",
    "!echo\n",
    "!echo \"Environnement variables: \" && env\n"
   ]
  },
  {
   "cell_type": "markdown",
   "metadata": {},
   "source": [
    "## A few python useful modules and tricks\n",
    "\n",
    "### Begins\n",
    "\n",
    "How to easily create command line tools, but it is bit hard to test in a Notebook:"
   ]
  },
  {
   "cell_type": "code",
   "execution_count": null,
   "metadata": {},
   "outputs": [],
   "source": [
    "import begin\n",
    "\n",
    "@begin.start\n",
    "def my_function(model_path=None, data_path=None, action=\"help\"):\n",
    "    \"Do some stuff on some data\"\n",
    "    print(\"Input args are:\")\n",
    "    print(\" model_path: {}\".format(model_path))\n",
    "    print(\" data_path: {}\".format(data_path))\n",
    "    print(\" action: {}\".format(action))\n",
    "    \n",
    "my_function()"
   ]
  },
  {
   "cell_type": "markdown",
   "metadata": {},
   "source": [
    "### Tqdm\n",
    "[LINK](https://github.com/tqdm/tqdm)\n",
    "\n",
    "TQDM is a nice progress bar, always usefull with machine learning!\n"
   ]
  },
  {
   "cell_type": "code",
   "execution_count": null,
   "metadata": {},
   "outputs": [],
   "source": [
    "from tqdm import tqdm\n",
    "from time import sleep\n",
    "\n",
    "my_data = [\"a\", \"b\", \"c\", \"d\"]\n",
    "text = \"\"\n",
    "for char in tqdm(my_data, ncols=100, desc=\"Processing my data\", unit=\"Data processed per second\"):\n",
    "    sleep(0.25)\n",
    "    text = text + char"
   ]
  },
  {
   "cell_type": "markdown",
   "metadata": {},
   "source": [
    "With two or more bars, not ideal in a Notebook, work better in a shell:"
   ]
  },
  {
   "cell_type": "code",
   "execution_count": null,
   "metadata": {},
   "outputs": [],
   "source": [
    "\n",
    "my_data_1 = [\"a\", \"b\", \"c\", \"d\"]\n",
    "my_data_2 = [\"1\", \"2\", \"3\", \"4\"]\n",
    "text = \"\"\n",
    "for char in tqdm(my_data, ncols=100, desc=\"Processing my data\", unit=\"Data processed per second\", position=0):\n",
    "    for char in tqdm(my_data, ncols=100, desc=\"Processing my index\", unit=\"Index processed per second\", position=1):\n",
    "        sleep(0.25)\n",
    "        text = text + char"
   ]
  },
  {
   "cell_type": "markdown",
   "metadata": {},
   "source": [
    "### Showing an image\n",
    "\n",
    "Always nice to visualize images."
   ]
  },
  {
   "cell_type": "code",
   "execution_count": null,
   "metadata": {},
   "outputs": [],
   "source": [
    "from IPython.display import Image\n",
    "\n",
    "# source: https://dribbble.com/shots/4307976-Python-Logo-Abstract\n",
    "Image(filename='/source/data/image/python.png')"
   ]
  },
  {
   "cell_type": "markdown",
   "metadata": {},
   "source": [
    "### Create interactive matplotlib graphs\n",
    "\n",
    "[Source tutorial](https://towardsdatascience.com/how-to-produce-interactive-matplotlib-plots-in-jupyter-environment-1e4329d71651)\n",
    "\n",
    "Interactive graph allow better data visualization and understanding... a must have...\n",
    "\n",
    "\n",
    "#### A simple plotting example\n"
   ]
  },
  {
   "cell_type": "code",
   "execution_count": null,
   "metadata": {},
   "outputs": [],
   "source": [
    "%matplotlib widget\n",
    "\n",
    "import pandas as pd\n",
    "import matplotlib.pyplot as plt\n",
    "\n",
    "url = \"https://raw.githubusercontent.com/plotly/datasets/master/tips.csv\"\n",
    "\n",
    "df = pd.read_csv(url)\n",
    "print(\"CSV red\")\n",
    "# Matplotlib Scatter Plot\n",
    "plt.scatter('total_bill', 'tip',data=df)\n",
    "plt.xlabel('Total Bill')\n",
    "plt.ylabel('Tip')\n",
    "plt.show()\n",
    "\n",
    "print(\"Showing graph\")"
   ]
  },
  {
   "cell_type": "markdown",
   "metadata": {},
   "source": [
    "#### Interactive map\n",
    "\n",
    "To run this example, please install following phython modules into your docker:\n",
    "\"contextily geopandas\""
   ]
  },
  {
   "cell_type": "code",
   "execution_count": null,
   "metadata": {},
   "outputs": [],
   "source": [
    "# install a python package into the docker\n",
    "!pip install contextily geopandas"
   ]
  },
  {
   "cell_type": "code",
   "execution_count": null,
   "metadata": {},
   "outputs": [],
   "source": [
    "import geopandas as gpd\n",
    "\n",
    "carshare = \"https://raw.githubusercontent.com/plotly/datasets/master/carshare.csv\"\n",
    "df_carshare = pd.read_csv(carshare)\n",
    "gdf = gpd.GeoDataFrame(df_carshare, geometry=gpd.points_from_xy(df_carshare.centroid_lon, df_carshare.centroid_lat),\n",
    "                       crs=\"EPSG:4326\")\n",
    "\n",
    "import contextily as ctx\n",
    "fig, ax = plt.subplots()\n",
    "gdf.to_crs(epsg=3857).plot(ax=ax, color=\"red\", edgecolor=\"white\")\n",
    "ctx.add_basemap(ax, url=ctx.providers.CartoDB.Positron) \n",
    "plt.title(\"Car Share\", fontsize=30, fontname=\"Palatino Linotype\", color=\"grey\")\n",
    "ax.axis(\"off\")\n",
    "plt.show()\n"
   ]
  },
  {
   "cell_type": "code",
   "execution_count": null,
   "metadata": {},
   "outputs": [],
   "source": []
  }
 ],
 "metadata": {
  "execution": {
   "allow_errors": true,
   "timeout": 300
  },
  "kernelspec": {
   "display_name": "Python 3 (ipykernel)",
   "language": "python",
   "name": "python3"
  },
  "language_info": {
   "codemirror_mode": {
    "name": "ipython",
    "version": 3
   },
   "file_extension": ".py",
   "mimetype": "text/x-python",
   "name": "python",
   "nbconvert_exporter": "python",
   "pygments_lexer": "ipython3",
   "version": "3.8.10"
  }
 },
 "nbformat": 4,
 "nbformat_minor": 2
}
