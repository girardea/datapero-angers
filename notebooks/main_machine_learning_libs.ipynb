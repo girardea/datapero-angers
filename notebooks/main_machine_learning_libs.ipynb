{
 "cells": [
  {
   "cell_type": "markdown",
   "id": "674099c2",
   "metadata": {},
   "source": [
    "# Main Machine Learning Libraries\n",
    "\n",
    "Notebook inspired from : https://www.geeksforgeeks.org/best-python-libraries-for-machine-learning/"
   ]
  },
  {
   "cell_type": "markdown",
   "id": "db04f351",
   "metadata": {},
   "source": [
    "##  Numpy\n",
    "\n",
    "Large mult-dimensional array and matrix processing. Used internally by TensorFlow and other high level libraries."
   ]
  },
  {
   "cell_type": "code",
   "execution_count": null,
   "id": "890bed98",
   "metadata": {},
   "outputs": [],
   "source": [
    "# Python program using NumPy\n",
    "# for some basic mathematical\n",
    "# operations\n",
    " \n",
    "import numpy as np\n",
    " \n",
    "# Creating two arrays of rank 2\n",
    "x = np.array([[1, 2], [3, 4]])\n",
    "y = np.array([[5, 6], [7, 8]])\n",
    " \n",
    "# Creating two arrays of rank 1\n",
    "v = np.array([9, 10])\n",
    "w = np.array([11, 12])\n",
    " \n",
    "# Inner product of vectors\n",
    "print(np.dot(v, w), \"\\n\")\n",
    " \n",
    "# Matrix and Vector product\n",
    "print(np.dot(x, v), \"\\n\")\n",
    " \n",
    "# Matrix and matrix product\n",
    "print(np.dot(x, y))"
   ]
  },
  {
   "cell_type": "markdown",
   "id": "7ceb2ed2",
   "metadata": {},
   "source": [
    "## Scipy\n",
    "\n",
    "Contains different modules for optimization, linear algebra, integration and statistics."
   ]
  },
  {
   "cell_type": "code",
   "execution_count": null,
   "id": "423ce9e1",
   "metadata": {},
   "outputs": [],
   "source": [
    "# As an example, create a Voronoi diagram from twenty random points:\n",
    "# Source: https://phoenixnap.com/kb/scipy-tutorial\n",
    "from scipy.spatial import Voronoi\n",
    "import numpy as np\n",
    "points = np.random.rand(20,2)\n",
    "voronoi = Voronoi(points)\n",
    "from scipy.spatial import voronoi_plot_2d\n",
    "fig = voronoi_plot_2d(voronoi,show_vertices=False)"
   ]
  },
  {
   "cell_type": "markdown",
   "id": "5181bb3e",
   "metadata": {},
   "source": [
    "## Scikit-Learn\n",
    "\n",
    "Skikit-learn is one of the most popular ML libraries for classical ML algorithms. It is built on top of two basic Python libraries, viz., NumPy and SciPy. Scikit-learn supports most of the supervised and unsupervised learning algorithms. Scikit-learn can also be used for data-mining and data-analysis, which makes it a great tool who is starting out with ML. \n"
   ]
  },
  {
   "cell_type": "code",
   "execution_count": null,
   "id": "4922fd34",
   "metadata": {},
   "outputs": [],
   "source": [
    "# Python script using Scikit-learn\n",
    "# for Decision Tree Classifier\n",
    "\n",
    "# Sample Decision Tree Classifier\n",
    "from sklearn import datasets\n",
    "from sklearn import metrics\n",
    "from sklearn.tree import DecisionTreeClassifier\n",
    "\n",
    "# load the iris datasets\n",
    "dataset = datasets.load_iris()\n",
    "\n",
    "# fit a CART model to the data\n",
    "model = DecisionTreeClassifier()\n",
    "model.fit(dataset.data, dataset.target)\n",
    "print(model)\n",
    "\n",
    "# make predictions\n",
    "expected = dataset.target\n",
    "predicted = model.predict(dataset.data)\n",
    "\n",
    "# summarize the fit of the model\n",
    "print(metrics.classification_report(expected, predicted))\n",
    "print(metrics.confusion_matrix(expected, predicted))\n"
   ]
  },
  {
   "cell_type": "markdown",
   "id": "4fc5059b",
   "metadata": {},
   "source": [
    "## TensorFlow\n",
    "\n",
    "See dedicated TensorFlow Notebook."
   ]
  }
 ],
 "metadata": {
  "kernelspec": {
   "display_name": "Python 3 (ipykernel)",
   "language": "python",
   "name": "python3"
  },
  "language_info": {
   "codemirror_mode": {
    "name": "ipython",
    "version": 3
   },
   "file_extension": ".py",
   "mimetype": "text/x-python",
   "name": "python",
   "nbconvert_exporter": "python",
   "pygments_lexer": "ipython3",
   "version": "3.7.11"
  }
 },
 "nbformat": 4,
 "nbformat_minor": 5
}
